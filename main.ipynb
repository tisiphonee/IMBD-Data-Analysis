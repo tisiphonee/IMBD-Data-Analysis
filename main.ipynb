{
 "cells": [
  {
   "cell_type": "code",
   "execution_count": 2,
   "metadata": {},
   "outputs": [],
   "source": [
    "from selenium import webdriver\n",
    "from selenium.webdriver.common.by import By\n",
    "from time import sleep\n",
    "\n",
    "\n",
    "driver = webdriver.Firefox()\n",
    "driver.get(\"https://www.imdb.com/search/title/?title_type=feature&release_date=1950-01-18,&sort=num_votes,desc\")\n",
    "sleep(3)\n"
   ]
  },
  {
   "cell_type": "code",
   "execution_count": null,
   "metadata": {},
   "outputs": [],
   "source": [
    "import time\n",
    "\n",
    "PAGE_TO_COUNT = 123\n",
    "\n",
    "def load_movie_links(driver):\n",
    "    page_counter = 0\n",
    "    while(page_counter < PAGE_TO_COUNT):\n",
    "        more_button = driver.find_element(By.CLASS_NAME, 'ipc-see-more__text')\n",
    "        more_button.click()\n",
    "        time.sleep(4)\n",
    "        page_counter += 1\n",
    "    \n",
    "load_movie_links(driver)\n"
   ]
  },
  {
   "cell_type": "code",
   "execution_count": 5,
   "metadata": {},
   "outputs": [],
   "source": [
    "from bs4 import BeautifulSoup\n",
    "def fetch_movie_links(driver):\n",
    "    link_list = []\n",
    "    soup = BeautifulSoup(driver.page_source, 'html.parser')\n",
    "    movie_links = soup.find_all('a', {'class' : 'ipc-title-link-wrapper'})\n",
    "    for link in movie_links:\n",
    "        link_list.append(link['href'])\n",
    "    return link_list\n",
    "\n",
    "movie_links = fetch_movie_links(driver)\n",
    "\n"
   ]
  },
  {
   "cell_type": "code",
   "execution_count": 6,
   "metadata": {},
   "outputs": [],
   "source": [
    "with open(\"links.txt\", 'w') as file:\n",
    "    [file.write(link + \"\\n\") for link in movie_links]"
   ]
  },
  {
   "cell_type": "code",
   "execution_count": 7,
   "metadata": {},
   "outputs": [],
   "source": [
    "def get_movie_info(soup):\n",
    "    title = soup.find('span', {'class': 'hero__primary-text'}).text.strip()\n",
    "    year_and_dur_and_cert = soup.find('ul', {'class': 'ipc-inline-list ipc-inline-list--show-dividers sc-d8941411-2 cdJsTz baseAlt'}).find_all('li', {'class' : 'ipc-inline-list__item'})\n",
    "    \n",
    "    release_year = year_and_dur_and_cert[0].text\n",
    "    cert = year_and_dur_and_cert[1].text if len(year_and_dur_and_cert) >= 2 else 'N/A'\n",
    "    duration = year_and_dur_and_cert[-1].text\n",
    "    genre = [g.text for g in soup.find('div', attrs={'data-testid': 'genres'}).find_all('span', {'class' : 'ipc-chip__text'})]\n",
    "    rating = soup.find('span', {'class': 'sc-bde20123-1 cMEQkK'}).text\n",
    "    votes = soup.find('div', {'class': 'sc-bde20123-3 gPVQxL'}).text\n",
    "    meta_score = soup.find('span', {'class': 'sc-b0901df4-0 bcQdDJ metacritic-score-box'}).text if soup.find('span', {'class': 'sc-b0901df4-0 bcQdDJ metacritic-score-box'}) else 'N/A'\n",
    "    language = [l.text for l in soup.find('li', {'data-testid' : 'title-details-languages'}).find_all('a', {'class' : 'ipc-metadata-list-item__list-content-item ipc-metadata-list-item__list-content-item--link'})]\n",
    "    countries_of_origin = [c.text for c in soup.find('li', {'data-testid' : 'title-details-origin'}).find_all('a', {'class' : 'ipc-metadata-list-item__list-content-item ipc-metadata-list-item__list-content-item--link'})]\n",
    "    budget = soup.find('li', {'data-testid' : 'title-boxoffice-budget'}).find('span', {'class' : 'ipc-metadata-list-item__list-content-item'}).text.removesuffix(' (estimated)') if soup.find('li', {'data-testid' : 'title-boxoffice-budget'}) else 'N/A'\n",
    "    gross = soup.find('li', {'data-testid' : 'title-boxoffice-cumulativeworldwidegross'}).find('span', {'class' : 'ipc-metadata-list-item__list-content-item'}).text.removesuffix(' (estimated)') if soup.find('li', {'data-testid' : 'title-boxoffice-cumulativeworldwidegross'}) else 'N/A'\n",
    "    company = [c.text for c in soup.find('li', {'data-testid' : 'title-details-companies'}).find_all('li', {'class' : 'ipc-inline-list__item'})]\n",
    "    return [title, release_year, cert, duration, genre, rating, votes, meta_score, language, countries_of_origin, budget, gross, company]\n"
   ]
  },
  {
   "cell_type": "code",
   "execution_count": 8,
   "metadata": {},
   "outputs": [],
   "source": [
    "titles = []\n",
    "release_years = []\n",
    "certs = []\n",
    "durations = []\n",
    "genres = []\n",
    "ratings = []\n",
    "num_votes = []\n",
    "meta_scores = []\n",
    "languages = []\n",
    "countries = []\n",
    "budgets = []\n",
    "grosses = []\n",
    "producer_companies = []"
   ]
  },
  {
   "cell_type": "code",
   "execution_count": null,
   "metadata": {},
   "outputs": [],
   "source": [
    "from time import sleep\n",
    "IMDB_LINK = \"https://www.imdb.com\"\n",
    "\n",
    "## index 404 had no gross\n",
    "for link in movie_links:\n",
    "    movie_link = IMDB_LINK + link\n",
    "    driver.get(movie_link)\n",
    "   # sleep(1)\n",
    "    soup = BeautifulSoup(driver.page_source, 'html.parser')\n",
    "    movie_info = get_movie_info(soup)\n",
    "    titles.append(movie_info[0])\n",
    "    release_years.append(movie_info[1])\n",
    "    certs.append(movie_info[2])\n",
    "    durations.append(movie_info[3])\n",
    "    genres.append('~'.join(movie_info[4]))\n",
    "    ratings.append(movie_info[5])\n",
    "    num_votes.append(movie_info[6])\n",
    "    meta_scores.append(movie_info[7])\n",
    "    languages.append('~'.join(movie_info[8]))\n",
    "    countries.append('~'.join(movie_info[9]))\n",
    "    budgets.append(movie_info[10])\n",
    "    grosses.append(movie_info[11])\n",
    "    producer_companies.append('~'.join(movie_info[12]))"
   ]
  },
  {
   "cell_type": "code",
   "execution_count": null,
   "metadata": {},
   "outputs": [],
   "source": [
    "import pandas as pd\n",
    "print(len(titles))\n",
    "print(len(release_years))\n",
    "print(len(certs))\n",
    "print(len(durations))\n",
    "print(len(genres))\n",
    "print(len(ratings))\n",
    "print(len(num_votes))\n",
    "print(len(meta_scores))\n",
    "print(len(languages))\n",
    "print(len(countries))\n",
    "print(len(producer_companies))\n",
    "print(len(budgets))\n",
    "\n",
    "df = pd.DataFrame({\n",
    "    'Title': titles,\n",
    "    'Release Year': release_years,\n",
    "    'Age Restriction':certs,\n",
    "    'Duration': durations,\n",
    "    'Genre': genres,\n",
    "    'Rating': ratings,\n",
    "    'Number of Votes': num_votes,\n",
    "    'Meta Score': meta_scores,\n",
    "    'Language': languages,\n",
    "    'Country of Origin': countries,\n",
    "    'Companies' : producer_companies,\n",
    "    'Budget': budgets,\n",
    "    'Gross (worldwide)': grosses\n",
    "    \n",
    "})\n",
    "\n",
    "df.to_csv(\"imdb_dataset.csv\")"
   ]
  }
 ],
 "metadata": {
  "kernelspec": {
   "display_name": "Python 3",
   "language": "python",
   "name": "python3"
  },
  "language_info": {
   "codemirror_mode": {
    "name": "ipython",
    "version": 3
   },
   "file_extension": ".py",
   "mimetype": "text/x-python",
   "name": "python",
   "nbconvert_exporter": "python",
   "pygments_lexer": "ipython3",
   "version": "3.10.6"
  }
 },
 "nbformat": 4,
 "nbformat_minor": 2
}
